{
 "cells": [
  {
   "cell_type": "code",
   "execution_count": 8,
   "id": "bfc4b16f",
   "metadata": {},
   "outputs": [],
   "source": [
    "import pandas as pd\n",
    "import re\n",
    "from nltk.corpus import stopwords\n",
    "from nltk.stem import WordNetLemmatizer\n",
    "\n",
    "import seaborn as sns\n",
    "import matplotlib.pyplot as plt"
   ]
  },
  {
   "cell_type": "code",
   "execution_count": 27,
   "id": "281ae5c7",
   "metadata": {},
   "outputs": [
    {
     "data": {
      "text/html": [
       "<div>\n",
       "<style scoped>\n",
       "    .dataframe tbody tr th:only-of-type {\n",
       "        vertical-align: middle;\n",
       "    }\n",
       "\n",
       "    .dataframe tbody tr th {\n",
       "        vertical-align: top;\n",
       "    }\n",
       "\n",
       "    .dataframe thead th {\n",
       "        text-align: right;\n",
       "    }\n",
       "</style>\n",
       "<table border=\"1\" class=\"dataframe\">\n",
       "  <thead>\n",
       "    <tr style=\"text-align: right;\">\n",
       "      <th></th>\n",
       "      <th>review_id</th>\n",
       "      <th>review</th>\n",
       "      <th>rating</th>\n",
       "      <th>decision</th>\n",
       "    </tr>\n",
       "  </thead>\n",
       "  <tbody>\n",
       "    <tr>\n",
       "      <th>0</th>\n",
       "      <td>iclr19_1_1</td>\n",
       "      <td>\"Overall: This paper introduces the Scratchpad...</td>\n",
       "      <td>2</td>\n",
       "      <td>0</td>\n",
       "    </tr>\n",
       "    <tr>\n",
       "      <th>1</th>\n",
       "      <td>iclr19_1_2</td>\n",
       "      <td>\" This paper tackles the question generation p...</td>\n",
       "      <td>1</td>\n",
       "      <td>0</td>\n",
       "    </tr>\n",
       "    <tr>\n",
       "      <th>2</th>\n",
       "      <td>iclr19_1_3</td>\n",
       "      <td>\"The paper studies the problem of question gen...</td>\n",
       "      <td>2</td>\n",
       "      <td>0</td>\n",
       "    </tr>\n",
       "    <tr>\n",
       "      <th>3</th>\n",
       "      <td>iclr19_2_1</td>\n",
       "      <td>\"Summary: Model-based RL that work on pixel-ba...</td>\n",
       "      <td>2</td>\n",
       "      <td>0</td>\n",
       "    </tr>\n",
       "    <tr>\n",
       "      <th>4</th>\n",
       "      <td>iclr19_2_2</td>\n",
       "      <td>\"This paper proposed to train a forward model ...</td>\n",
       "      <td>2</td>\n",
       "      <td>0</td>\n",
       "    </tr>\n",
       "  </tbody>\n",
       "</table>\n",
       "</div>"
      ],
      "text/plain": [
       "    review_id                                             review  rating  \\\n",
       "0  iclr19_1_1  \"Overall: This paper introduces the Scratchpad...       2   \n",
       "1  iclr19_1_2  \" This paper tackles the question generation p...       1   \n",
       "2  iclr19_1_3  \"The paper studies the problem of question gen...       2   \n",
       "3  iclr19_2_1  \"Summary: Model-based RL that work on pixel-ba...       2   \n",
       "4  iclr19_2_2  \"This paper proposed to train a forward model ...       2   \n",
       "\n",
       "   decision  \n",
       "0         0  \n",
       "1         0  \n",
       "2         0  \n",
       "3         0  \n",
       "4         0  "
      ]
     },
     "execution_count": 27,
     "metadata": {},
     "output_type": "execute_result"
    }
   ],
   "source": [
    "data_df = pd.read_csv('./amsr.csv')\n",
    "data_df.head()"
   ]
  },
  {
   "cell_type": "code",
   "execution_count": 28,
   "id": "b9e997d0-1cdd-4035-bc69-6542951e239b",
   "metadata": {},
   "outputs": [
    {
     "data": {
      "image/png": "[encoded data removed]",
      "text/plain": [
       "<Figure size 720x576 with 2 Axes>"
      ]
     },
     "metadata": {
      "needs_background": "light"
     },
     "output_type": "display_data"
    }
   ],
   "source": [
    "# Generate correlation matrix\n",
    "correlation_matrix = data_df.corr()\n",
    "\n",
    "# Plot the correlation matrix using Seaborn\n",
    "plt.figure(figsize=(10, 8))\n",
    "sns.heatmap(correlation_matrix, annot=True, cmap='coolwarm', square=True)\n",
    "plt.title('Correlation Matrix')\n",
    "plt.show()"
   ]
  },
  {
   "cell_type": "code",
   "execution_count": 29,
   "id": "5f693e41-7f02-4447-ba5d-02f3d47b6877",
   "metadata": {},
   "outputs": [
    {
     "data": {
      "image/png": "[encoded data removed]",
      "text/plain": [
       "<Figure size 576x432 with 1 Axes>"
      ]
     },
     "metadata": {
      "needs_background": "light"
     },
     "output_type": "display_data"
    }
   ],
   "source": [
    "def plot_reviews_by_rating(data_df):\n",
    "\n",
    "    # Group the data by rating and decision, and count the number of reviews in each group\n",
    "    grouped_data = data_df.groupby(['rating', 'decision']).size().reset_index(name='count')\n",
    "\n",
    "    # Plot a bar chart\n",
    "    plt.figure(figsize=(8, 6))\n",
    "    sns.barplot(data=grouped_data, x='rating', y='count', hue='decision')\n",
    "    plt.xlabel('Rating')\n",
    "    plt.ylabel('Count')\n",
    "    plt.title('Counts of Reviews by Rating and Decision')\n",
    "    plt.show()\n",
    "\n",
    "plot_reviews_by_rating(data_df)"
   ]
  },
  {
   "cell_type": "markdown",
   "id": "678081b9-58ec-4ee4-a6f1-08af2557161b",
   "metadata": {},
   "source": [
    "## Filter data based on rating and decision"
   ]
  },
  {
   "cell_type": "code",
   "execution_count": 30,
   "id": "97096305-980f-4d05-b871-246fcf46f69f",
   "metadata": {},
   "outputs": [
    {
     "name": "stdout",
     "output_type": "stream",
     "text": [
      "    review_id                                             review  rating  \\\n",
      "0  iclr19_1_1  \"Overall: This paper introduces the Scratchpad...       2   \n",
      "1  iclr19_1_2  \" This paper tackles the question generation p...       1   \n",
      "2  iclr19_1_3  \"The paper studies the problem of question gen...       2   \n",
      "3  iclr19_2_1  \"Summary: Model-based RL that work on pixel-ba...       2   \n",
      "4  iclr19_2_2  \"This paper proposed to train a forward model ...       2   \n",
      "\n",
      "   decision  \n",
      "0         0  \n",
      "1         0  \n",
      "2         0  \n",
      "3         0  \n",
      "4         0  \n"
     ]
    }
   ],
   "source": [
    "\n",
    "data_filtered = data_df.loc[~((data_df['decision'] == 1) & (data_df['rating'] < 3)) & ~((data_df['decision'] == 0) & (data_df['rating'] >= 3))]\n",
    "\n",
    "# Reset the index after removing rows\n",
    "data_filtered.reset_index(drop=True, inplace=True)\n",
    "\n",
    "# Print the updated DataFrame\n",
    "print(data_filtered.head())"
   ]
  },
  {
   "cell_type": "code",
   "execution_count": 31,
   "id": "be7c7919-172b-4186-96dc-2869d2a32ef6",
   "metadata": {},
   "outputs": [
    {
     "data": {
      "image/png": "[encoded data removed]",
      "text/plain": [
       "<Figure size 576x432 with 1 Axes>"
      ]
     },
     "metadata": {
      "needs_background": "light"
     },
     "output_type": "display_data"
    }
   ],
   "source": [
    "plot_reviews_by_rating(data_filtered)"
   ]
  },
  {
   "cell_type": "markdown",
   "id": "8bba5723-9c51-4a95-b564-a393e61e1620",
   "metadata": {},
   "source": [
    "## Text Preprocessing"
   ]
  },
  {
   "cell_type": "code",
   "execution_count": 32,
   "id": "d515d738",
   "metadata": {},
   "outputs": [
    {
     "name": "stdout",
     "output_type": "stream",
     "text": [
      "    review_id                                             review  rating  \\\n",
      "0  iclr19_1_1  \"Overall: This paper introduces the Scratchpad...       2   \n",
      "1  iclr19_1_2  \" This paper tackles the question generation p...       1   \n",
      "2  iclr19_1_3  \"The paper studies the problem of question gen...       2   \n",
      "3  iclr19_2_1  \"Summary: Model-based RL that work on pixel-ba...       2   \n",
      "4  iclr19_2_2  \"This paper proposed to train a forward model ...       2   \n",
      "\n",
      "   decision                                   processed_review sentiment  \n",
      "0         0  overall paper introduces scratchpad encoder no...  negative  \n",
      "1         0  paper tackle question generation problem logic...  negative  \n",
      "2         0  paper study problem question generation sparql...  negative  \n",
      "3         0  summary modelbased rl work pixelbased environm...  negative  \n",
      "4         0  paper proposed train forward model used reinfo...  negative  \n"
     ]
    },
    {
     "name": "stderr",
     "output_type": "stream",
     "text": [
      "C:\\Users\\Diego\\AppData\\Local\\Temp/ipykernel_17064/1382970813.py:26: SettingWithCopyWarning: \n",
      "A value is trying to be set on a copy of a slice from a DataFrame.\n",
      "Try using .loc[row_indexer,col_indexer] = value instead\n",
      "\n",
      "See the caveats in the documentation: https://pandas.pydata.org/pandas-docs/stable/user_guide/indexing.html#returning-a-view-versus-a-copy\n",
      "  data_filtered['processed_review'] = data_filtered['review'].apply(preprocess_text)\n",
      "C:\\Users\\Diego\\AppData\\Local\\Temp/ipykernel_17064/1382970813.py:36: SettingWithCopyWarning: \n",
      "A value is trying to be set on a copy of a slice from a DataFrame.\n",
      "Try using .loc[row_indexer,col_indexer] = value instead\n",
      "\n",
      "See the caveats in the documentation: https://pandas.pydata.org/pandas-docs/stable/user_guide/indexing.html#returning-a-view-versus-a-copy\n",
      "  data_filtered['sentiment'] = data_filtered['rating'].apply(map_sentiment)\n"
     ]
    }
   ],
   "source": [
    "# Text preprocessing\n",
    "def preprocess_text(text):\n",
    "    # Convert text to lowercase\n",
    "    text = text.lower()\n",
    "    \n",
    "    # Remove punctuation\n",
    "    text = re.sub(r'[^\\w\\s]', '', text)\n",
    "    \n",
    "    # Tokenize the text into individual words\n",
    "    words = text.split()\n",
    "    \n",
    "    # Remove stop words\n",
    "    stop_words = set(stopwords.words('english'))\n",
    "    words = [word for word in words if word not in stop_words]\n",
    "    \n",
    "    # Lemmatize the words\n",
    "    lemmatizer = WordNetLemmatizer()\n",
    "    words = [lemmatizer.lemmatize(word) for word in words]\n",
    "    \n",
    "    # Join the processed words back into a single string\n",
    "    processed_text = ' '.join(words)\n",
    "    \n",
    "    return processed_text\n",
    "\n",
    "# Apply text preprocessing to the 'review' column\n",
    "data_filtered['processed_review'] = data_filtered['review'].apply(preprocess_text)\n",
    "\n",
    "# Define sentiment classes\n",
    "def map_sentiment(rating):\n",
    "    if rating >= 3:\n",
    "        return 'positive'\n",
    "    else:\n",
    "        return 'negative'\n",
    "\n",
    "# Map sentiment classes based on the 'rating' column\n",
    "data_filtered['sentiment'] = data_filtered['rating'].apply(map_sentiment)\n",
    "\n",
    "# Print the updated DataFrame\n",
    "print(data_filtered.head())"
   ]
  },
  {
   "cell_type": "code",
   "execution_count": 34,
   "id": "8d17fd6d-cc76-4a5e-a837-546799fc8616",
   "metadata": {},
   "outputs": [],
   "source": [
    "data_filtered.to_csv('amsr_labeled_data.csv')"
   ]
  },
  {
   "cell_type": "markdown",
   "id": "8067a92c-0a30-468d-aee4-69c14c45c735",
   "metadata": {},
   "source": [
    "## Split the data"
   ]
  },
  {
   "cell_type": "code",
   "execution_count": 36,
   "id": "2946d088-c9d9-4223-86ed-eee502adb274",
   "metadata": {},
   "outputs": [],
   "source": [
    "from sklearn.model_selection import train_test_split"
   ]
  },
  {
   "cell_type": "code",
   "execution_count": 39,
   "id": "57e8fa35-3c7e-48cd-b481-cf540b87191a",
   "metadata": {},
   "outputs": [
    {
     "name": "stdout",
     "output_type": "stream",
     "text": [
      "Train set size: 7344\n",
      "Test set size: 1836\n"
     ]
    }
   ],
   "source": [
    "data_filtered.reset_index(drop=True, inplace=True)\n",
    "\n",
    "# Split the data into train and test sets\n",
    "train_data, test_data = train_test_split(data_filtered, test_size=0.2, random_state=42)\n",
    "\n",
    "# Print the sizes of the train and test sets\n",
    "print(\"Train set size:\", len(train_data))\n",
    "print(\"Test set size:\", len(test_data))"
   ]
  },
  {
   "cell_type": "code",
   "execution_count": 41,
   "id": "55a9b98a-3c5d-4024-890a-8f06c939af57",
   "metadata": {},
   "outputs": [],
   "source": [
    "train_data.to_csv('train.csv')\n",
    "test_data.to_csv('test.csv')"
   ]
  }
 ],
 "metadata": {
  "kernelspec": {
   "display_name": "Python 3 (ipykernel)",
   "language": "python",
   "name": "python3"
  },
  "language_info": {
   "codemirror_mode": {
    "name": "ipython",
    "version": 3
   },
   "file_extension": ".py",
   "mimetype": "text/x-python",
   "name": "python",
   "nbconvert_exporter": "python",
   "pygments_lexer": "ipython3",
   "version": "3.9.7"
  }
 },
 "nbformat": 4,
 "nbformat_minor": 5
}
